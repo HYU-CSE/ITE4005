{
 "cells": [
  {
   "cell_type": "markdown",
   "metadata": {
    "deletable": true,
    "editable": true
   },
   "source": [
    "# Apriori algorithm"
   ]
  },
  {
   "cell_type": "code",
   "execution_count": 1,
   "metadata": {
    "collapsed": true,
    "deletable": true,
    "editable": true
   },
   "outputs": [],
   "source": [
    "from collections import defaultdict\n",
    "from itertools import combinations, chain\n",
    "from decimal import Decimal, getcontext, ROUND_HALF_UP"
   ]
  },
  {
   "cell_type": "code",
   "execution_count": 2,
   "metadata": {
    "collapsed": true,
    "deletable": true,
    "editable": true
   },
   "outputs": [],
   "source": [
    "support = .05"
   ]
  },
  {
   "cell_type": "code",
   "execution_count": 3,
   "metadata": {
    "collapsed": true
   },
   "outputs": [],
   "source": [
    "getcontext().rounding=ROUND_HALF_UP"
   ]
  },
  {
   "cell_type": "code",
   "execution_count": 4,
   "metadata": {
    "collapsed": true
   },
   "outputs": [],
   "source": [
    "def rounding(value, k):\n",
    "    return type(value)(round(Decimal(value), k))"
   ]
  },
  {
   "cell_type": "code",
   "execution_count": 5,
   "metadata": {
    "collapsed": true,
    "deletable": true,
    "editable": true
   },
   "outputs": [],
   "source": [
    "def apriori(data, support):\n",
    "    candidates = list(map(lambda x: frozenset([x]), set(chain(*data))))\n",
    "    result = dict()\n",
    "    k = 2\n",
    "    def scan():\n",
    "        count = defaultdict(int)\n",
    "        for transaction in data:\n",
    "            for candidate in candidates:\n",
    "                if candidate.issubset(transaction):\n",
    "                    count[candidate] += 1\n",
    "        return {k: v/len(data) for k, v in count.items() if float(v)/len(data) >= support}\n",
    "    while candidates:\n",
    "        filtered = scan()\n",
    "        result[k - 1] = filtered\n",
    "        candidates = set([i.union(j) for i in filtered.keys() for j in filtered.keys() if len(i.union(j)) == k])\n",
    "        k += 1\n",
    "    return result"
   ]
  },
  {
   "cell_type": "code",
   "execution_count": 6,
   "metadata": {
    "collapsed": true,
    "deletable": true,
    "editable": true
   },
   "outputs": [],
   "source": [
    "def define(freq, transactions, confidence=.0):\n",
    "    def f(item): return freq[len(item)][item]\n",
    "    for k, v in freq.items():\n",
    "        if k == 1: continue\n",
    "        for item in v:\n",
    "            for element in map(frozenset, chain(*[combinations(item, i) for i, e in enumerate(item, 1)])):\n",
    "                remain = item.difference(element)\n",
    "                if remain:\n",
    "                    (a, b), (c, d) = f(item).as_integer_ratio(), f(element).as_integer_ratio()\n",
    "                    conf = (a/b)/(c/d)\n",
    "                    if conf >= confidence:\n",
    "                        yield element, remain, rounding(f(item) * 100, 2), rounding(conf * 100, 2)"
   ]
  },
  {
   "cell_type": "code",
   "execution_count": 7,
   "metadata": {
    "collapsed": true,
    "deletable": true,
    "editable": true
   },
   "outputs": [],
   "source": [
    "with open('input.txt') as f:\n",
    "    data = [list(map(int, line.split())) for line in f.readlines()]"
   ]
  },
  {
   "cell_type": "code",
   "execution_count": 8,
   "metadata": {
    "collapsed": true,
    "deletable": true,
    "editable": true
   },
   "outputs": [],
   "source": [
    "freq = apriori(data, .05)"
   ]
  },
  {
   "cell_type": "code",
   "execution_count": 9,
   "metadata": {
    "collapsed": true,
    "deletable": true,
    "editable": true
   },
   "outputs": [],
   "source": [
    "rules = list(define(freq, data))"
   ]
  },
  {
   "cell_type": "code",
   "execution_count": 10,
   "metadata": {
    "collapsed": true,
    "deletable": true,
    "editable": true,
    "scrolled": false
   },
   "outputs": [],
   "source": [
    "with open('output5.txt', 'w') as f:\n",
    "    for item, asso, sup, conf in rules:\n",
    "        f.write('{{{}}}\\t{{{}}}\\t{:.2f}\\t{:.2f}\\n'.format(','.join(map(str, item)), ','.join(map(str, asso)), sup, conf))"
   ]
  },
  {
   "cell_type": "code",
   "execution_count": null,
   "metadata": {
    "collapsed": true
   },
   "outputs": [],
   "source": []
  }
 ],
 "metadata": {
  "kernelspec": {
   "display_name": "Python 3",
   "language": "python",
   "name": "python3"
  },
  "language_info": {
   "codemirror_mode": {
    "name": "ipython",
    "version": 3
   },
   "file_extension": ".py",
   "mimetype": "text/x-python",
   "name": "python",
   "nbconvert_exporter": "python",
   "pygments_lexer": "ipython3",
   "version": "3.5.3"
  }
 },
 "nbformat": 4,
 "nbformat_minor": 2
}

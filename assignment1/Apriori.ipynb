{
 "cells": [
  {
   "cell_type": "markdown",
   "metadata": {},
   "source": [
    "# Apriori algorithm"
   ]
  },
  {
   "cell_type": "code",
   "execution_count": 1,
   "metadata": {
    "collapsed": true
   },
   "outputs": [],
   "source": [
    "from collections import defaultdict\n",
    "from itertools import combinations, chain"
   ]
  },
  {
   "cell_type": "code",
   "execution_count": 2,
   "metadata": {
    "collapsed": true
   },
   "outputs": [],
   "source": [
    "support = .05"
   ]
  },
  {
   "cell_type": "code",
   "execution_count": 3,
   "metadata": {},
   "outputs": [],
   "source": [
    "def apriori(data, support):\n",
    "    candidates = list(map(lambda x: frozenset([x]), set(chain(*data))))\n",
    "    result = dict()\n",
    "    k = 2\n",
    "    def scan():\n",
    "        count = defaultdict(int)\n",
    "        for transaction in data:\n",
    "            for candidate in candidates:\n",
    "                if candidate.issubset(transaction):\n",
    "                    count[candidate] += 1\n",
    "        return {k: v/len(data) for k, v in count.items() if float(v)/len(data) >= support}\n",
    "    while candidates:\n",
    "        filtered = scan()\n",
    "        result[k - 1] = filtered\n",
    "        candidates = set([i.union(j) for i in filtered.keys() for j in filtered.keys() if len(i.union(j)) == k])\n",
    "        k += 1\n",
    "    return result"
   ]
  },
  {
   "cell_type": "code",
   "execution_count": 4,
   "metadata": {
    "collapsed": true
   },
   "outputs": [],
   "source": [
    "def define(freq, transactions, confidence=.0):\n",
    "    def support(item):\n",
    "        return float(freq[len(item)][item])/len(transactions)\n",
    "    \n",
    "    for k, v in freq.items():\n",
    "        if k == 1: continue\n",
    "        for item in v:\n",
    "            for element in map(frozenset, chain(*[combinations(item, i) for i, e in enumerate(item, 1)])):\n",
    "                remain = item.difference(element)\n",
    "                if remain:\n",
    "                    conf = support(item) / support(element)\n",
    "                    if conf >= confidence:\n",
    "                        yield element, remain, round(freq[len(item)][item] * 100, 2), round(conf * 100, 2)"
   ]
  },
  {
   "cell_type": "code",
   "execution_count": 5,
   "metadata": {
    "collapsed": true
   },
   "outputs": [],
   "source": [
    "with open('input.txt') as f:\n",
    "    data = [list(map(int, line.split())) for line in f.readlines()]"
   ]
  },
  {
   "cell_type": "code",
   "execution_count": 6,
   "metadata": {
    "collapsed": true
   },
   "outputs": [],
   "source": [
    "freq = apriori(data, .05)"
   ]
  },
  {
   "cell_type": "code",
   "execution_count": 7,
   "metadata": {},
   "outputs": [],
   "source": [
    "rules = list(define(freq, data))"
   ]
  },
  {
   "cell_type": "code",
   "execution_count": 8,
   "metadata": {
    "scrolled": false
   },
   "outputs": [],
   "source": [
    "with open('output.txt', 'w') as f:\n",
    "    for item, asso, sup, conf in rules:\n",
    "        f.write('{{{}}}\\t{{{}}}\\t{:.2f}\\t{:.2f}\\n'.format(','.join(map(str, item)), ','.join(map(str, asso)), sup, conf))"
   ]
  }
 ],
 "metadata": {
  "kernelspec": {
   "display_name": "Python 3",
   "language": "python",
   "name": "python3"
  },
  "language_info": {
   "codemirror_mode": {
    "name": "ipython",
    "version": 3
   },
   "file_extension": ".py",
   "mimetype": "text/x-python",
   "name": "python",
   "nbconvert_exporter": "python",
   "pygments_lexer": "ipython3",
   "version": "3.5.2"
  }
 },
 "nbformat": 4,
 "nbformat_minor": 2
}
